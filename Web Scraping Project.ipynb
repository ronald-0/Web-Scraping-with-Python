{
 "cells": [
  {
   "cell_type": "code",
   "execution_count": 84,
   "metadata": {},
   "outputs": [],
   "source": [
    "from bs4 import BeautifulSoup\n",
    "import time\n",
    "import requests\n",
    "import csv"
   ]
  },
  {
   "cell_type": "code",
   "execution_count": 79,
   "metadata": {},
   "outputs": [],
   "source": [
    "def check_crsscore():\n",
    "    URL = \"https://www.visaplace.com/blog-immigration-law/c/canada/permanent-residence/express-entry/?campaignid=14652499100&adgroupid=132497958932&matchtype=&network=g&device=c&devicemodel=&ifmobile=&creative=555182824013&keyword=&placement=&adposition=&kw=&cpn=14652499100&gc_id=14652499100&h_ad_id=555182824013&campaignid=14652499100&adgroupid=132497958932&creative=555182824013&matchtype=&network=g&device=c&keyword=&utm_source=google&utm_medium=cpc&utm_campaign=DSA4-2&gclid=Cj0KCQjw48OaBhDWARIsAMd966CvUOknQy5jsu6UxUf8PWQhqdTKedjnIjBGxOH5ocHXBPJwiTo8Q8oaAvQCEALw_wcB\"\n",
    "\n",
    "    headers = {\"User-Agent\": \"Mozilla/5.0 (Windows NT 10.0; Win64; x64) AppleWebKit/537.36 (KHTML, like Gecko) Chrome/106.0.0.0 Safari/537.36\",\"Accept-Encoding\": \"gzip, deflate, br\",\"Accept\": \"text/html,application/xhtml+xml,application/xml;q=0.9,image/avif,image/webp,image/apng,*/*;q=0.8,application/signed-exchange;v=b3;q=0.9\",\"DNT\":\"1\",\"Connection\":\"close\",\"Upgrade-Insecure-Requests\": \"1\"}\n",
    "\n",
    "    page = requests.get(URL, headers=headers)\n",
    "\n",
    "    soup1 = BeautifulSoup(page.content, \"html.parser\")\n",
    "\n",
    "    soup2 = BeautifulSoup(soup1.prettify(), \"html.parser\")\n",
    "\n",
    "    no = soup2.find(\"span\", attrs = {'class':'number'}).get_text()\n",
    "\n",
    "    invitations = soup2.find(\"span\", attrs = {'class':'data'}).get_text()\n",
    "\n",
    "    crs = soup2.find(\"span\", attrs = {'class':'data'}).get_text()\n",
    "\n",
    "    date = soup2.find(\"span\", attrs = {'class':'data'}).get_text()\n",
    "\n",
    "    no = no.split()\n",
    "\n",
    "    no = no[2]\n",
    "\n",
    "    invitations = invitations.split()\n",
    "\n",
    "    invitations = invitations[6]\n",
    "\n",
    "    crs = crs.split()\n",
    "\n",
    "    crs = crs[10]\n",
    "\n",
    "    date = date.split()\n",
    "\n",
    "    month = date[0]\n",
    "\n",
    "    day = date[1]\n",
    "\n",
    "    year = date[2]\n",
    "\n",
    "    date = month + ' ' + day[:2] + ' ' + year\n",
    "\n",
    "    header = [\"Draw\",\"No of Invitations\",\"CRS Score\",\"Date\"]\n",
    "    data = [no,invitations,crs,date]\n",
    "\n",
    "    with open('CRSWebScraperDataset.csv','a+',newline='',encoding='UTF8') as f:\n",
    "        writer = csv.writer(f)\n",
    "        writer.writerow(data)"
   ]
  },
  {
   "cell_type": "code",
   "execution_count": 83,
   "metadata": {},
   "outputs": [
    {
     "ename": "KeyboardInterrupt",
     "evalue": "",
     "output_type": "error",
     "traceback": [
      "\u001b[1;31m---------------------------------------------------------------------------\u001b[0m",
      "\u001b[1;31mKeyboardInterrupt\u001b[0m                         Traceback (most recent call last)",
      "\u001b[1;32mc:\\Users\\Hp\\Documents\\Python\\Projects\\Web Scraping Project.ipynb Cell 8\u001b[0m in \u001b[0;36m<cell line: 1>\u001b[1;34m()\u001b[0m\n\u001b[0;32m      <a href='vscode-notebook-cell:/c%3A/Users/Hp/Documents/Python/Projects/Web%20Scraping%20Project.ipynb#X11sZmlsZQ%3D%3D?line=0'>1</a>\u001b[0m \u001b[39mwhile\u001b[39;00m(\u001b[39mTrue\u001b[39;00m):\n\u001b[0;32m      <a href='vscode-notebook-cell:/c%3A/Users/Hp/Documents/Python/Projects/Web%20Scraping%20Project.ipynb#X11sZmlsZQ%3D%3D?line=1'>2</a>\u001b[0m     check_crsscore()\n\u001b[1;32m----> <a href='vscode-notebook-cell:/c%3A/Users/Hp/Documents/Python/Projects/Web%20Scraping%20Project.ipynb#X11sZmlsZQ%3D%3D?line=2'>3</a>\u001b[0m     time\u001b[39m.\u001b[39;49msleep(\u001b[39m1\u001b[39;49m)\n",
      "\u001b[1;31mKeyboardInterrupt\u001b[0m: "
     ]
    }
   ],
   "source": [
    "while(True):\n",
    "    check_crsscore()\n",
    "    time.sleep(1,209,600)"
   ]
  }
 ],
 "metadata": {
  "kernelspec": {
   "display_name": "Python 3.10.5 64-bit",
   "language": "python",
   "name": "python3"
  },
  "language_info": {
   "codemirror_mode": {
    "name": "ipython",
    "version": 3
   },
   "file_extension": ".py",
   "mimetype": "text/x-python",
   "name": "python",
   "nbconvert_exporter": "python",
   "pygments_lexer": "ipython3",
   "version": "3.10.5"
  },
  "orig_nbformat": 4,
  "vscode": {
   "interpreter": {
    "hash": "027efd7095115064582efab50921964d678032cf36f1ec215c675cf4ffc5e6b9"
   }
  }
 },
 "nbformat": 4,
 "nbformat_minor": 2
}
